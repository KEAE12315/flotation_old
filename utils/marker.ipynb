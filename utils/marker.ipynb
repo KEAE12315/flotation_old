{
 "cells": [
  {
   "cell_type": "code",
   "execution_count": 14,
   "metadata": {},
   "outputs": [],
   "source": [
    "from folium.plugins import HeatMap\n",
    "import folium\n",
    "from load import *\n",
    "\n",
    "\n",
    "class FMap:\n",
    "    def __init__(self,\n",
    "                 dataset_path='../dataset/Geolife Trajectories 1.3/Data/001/',\n",
    "                 startLocation=[39.984094, 116.319236]):\n",
    "\n",
    "        self.dataset_path = dataset_path\n",
    "        self.startLocation = startLocation\n",
    "        self.update()\n",
    "\n",
    "    def update(self):\n",
    "        # 初始化地图实例\n",
    "        self.m = folium.Map(location=self.startLocation, zoom_start=15)\n",
    "        # 允许点击任意位置并显示坐标\n",
    "        self.m.add_child(folium.LatLngPopup())\n",
    "\n",
    "        self._heatmap()\n",
    "        self._line()\n",
    "        self._marker()\n",
    "        self.save()\n",
    "\n",
    "    def _heatmap(self):\n",
    "        \"\"\"创建热力图\"\"\"\n",
    "        ls = []\n",
    "        for df in LoadG(self.dataset_path):\n",
    "            ls = ls+([[lat, lng]for [lat, lng, *_] in df.values])\n",
    "        HeatMap(ls).add_to(self.m)\n",
    "\n",
    "    def _line(self):\n",
    "        \"\"\"\"生成轨迹路线图\"\"\"\n",
    "        for df in LoadG(self.dataset_path):\n",
    "            l = [[lat, lng]for [lat, lng, *_] in df.values]\n",
    "            folium.PolyLine(l, weight=0.4).add_to(self.m)\n",
    "\n",
    "    def _marker(self):\n",
    "        \"\"\"\"生成轨迹小点\"\"\"\n",
    "        tooltip = '点击查看该轨迹点信息'\n",
    "        trackID = 0\n",
    "        icon = folium.Icon(color='darkblue', prefix='fa', icon='circle-1')\n",
    "        for df in LoadG(self.dataset_path):\n",
    "            for _, lat, lng, datatime in df.itertuples():\n",
    "                folium.CircleMarker([lat, lng],\n",
    "                                    popup='lat: '+str(lat)+', lng: '+str(lng)+', datatime: '+str(datatime)+', trackID: '+str(trackID),\n",
    "                                    icon=icon,\n",
    "                                    radius=1,\n",
    "                                    tooltip=tooltip).add_to(self.m)\n",
    "            trackID += 1\n",
    "\n",
    "    def save(self, savePath='../map/marker.html'):\n",
    "        \"\"\"保存地图\"\"\"\n",
    "        self.m.save(savePath)\n"
   ]
  },
  {
   "cell_type": "code",
   "execution_count": 13,
   "metadata": {},
   "outputs": [],
   "source": [
    "\n",
    "fmap=FMap()"
   ]
  }
 ],
 "metadata": {
  "kernelspec": {
   "display_name": "Python 3.8.10 ('.venv': pipenv)",
   "language": "python",
   "name": "python3"
  },
  "language_info": {
   "codemirror_mode": {
    "name": "ipython",
    "version": 3
   },
   "file_extension": ".py",
   "mimetype": "text/x-python",
   "name": "python",
   "nbconvert_exporter": "python",
   "pygments_lexer": "ipython3",
   "version": "3.8.10"
  },
  "orig_nbformat": 4,
  "vscode": {
   "interpreter": {
    "hash": "29d8ed5e21f205e36c63a8d42436731c2c32d63c1b57352790bb1759787c255f"
   }
  }
 },
 "nbformat": 4,
 "nbformat_minor": 2
}
